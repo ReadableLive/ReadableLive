{
 "cells": [
  {
   "cell_type": "code",
   "execution_count": 1,
   "id": "a96e0cdc",
   "metadata": {},
   "outputs": [],
   "source": [
    "from requests import get\n",
    "from bs4 import BeautifulSoup\n",
    "import os\n",
    "import re\n",
    "import TTS"
   ]
  },
  {
   "cell_type": "code",
   "execution_count": 2,
   "id": "29148926",
   "metadata": {},
   "outputs": [],
   "source": [
    "url = 'https://www.gutenberg.org/files/84/84-h/84-h.htm'\n",
    "headers = {'User-Agent': 'ReadableLive'} # Some websites don't accept the pyhon-requests default user-agent\n",
    "response = get(url, headers=headers)"
   ]
  },
  {
   "cell_type": "code",
   "execution_count": 3,
   "id": "27966665",
   "metadata": {},
   "outputs": [],
   "source": [
    "soup = BeautifulSoup(response.content, 'html.parser')"
   ]
  },
  {
   "cell_type": "code",
   "execution_count": 4,
   "id": "6f0f4cf9",
   "metadata": {},
   "outputs": [],
   "source": [
    "book = soup.get_text()"
   ]
  },
  {
   "cell_type": "code",
   "execution_count": 5,
   "id": "2f8b06bb",
   "metadata": {},
   "outputs": [],
   "source": [
    "book = re.sub(r\"[\\n\\r]\", ' ', book).strip()"
   ]
  },
  {
   "cell_type": "code",
   "execution_count": 4,
   "id": "4141bb0c",
   "metadata": {},
   "outputs": [],
   "source": [
    "!TTS "
   ]
  },
  {
   "cell_type": "code",
   "execution_count": null,
   "id": "d9a5931a",
   "metadata": {},
   "outputs": [],
   "source": []
  }
 ],
 "metadata": {
  "kernelspec": {
   "display_name": "Python 3",
   "language": "python",
   "name": "python3"
  },
  "language_info": {
   "codemirror_mode": {
    "name": "ipython",
    "version": 3
   },
   "file_extension": ".py",
   "mimetype": "text/x-python",
   "name": "python",
   "nbconvert_exporter": "python",
   "pygments_lexer": "ipython3",
   "version": "3.8.12"
  }
 },
 "nbformat": 4,
 "nbformat_minor": 5
}
